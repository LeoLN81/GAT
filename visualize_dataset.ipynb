{
 "cells": [
  {
   "cell_type": "code",
   "execution_count": 2,
   "metadata": {},
   "outputs": [],
   "source": [
    "from typing import Dict\n",
    "\n",
    "import numpy as np\n",
    "import torch\n",
    "from torch import nn\n",
    "\n",
    "from pathlib import Path\n",
    "\n",
    "from download import download_file, extract_tar\n",
    "\n",
    "\n",
    "class CoraDataset:\n",
    "    def __init__(self, include_edges: bool = True):\n",
    "        self.include_edges = include_edges\n",
    "\n",
    "        # Download dataset\n",
    "        self._download()\n",
    "\n",
    "        # Read the paper ids, feature vectors, and labels\n",
    "        content = np.genfromtxt('cora/cora/cora.content', dtype=np.dtype(str))\n",
    "\n",
    "        # Load the citations, it's a list of pairs of integers.\n",
    "        citations = np.genfromtxt('cora/cora/cora.cites', dtype=np.int32)\n",
    "\n",
    "        features = torch.tensor(np.array(content[:, 1:-1], dtype=np.float32))\n",
    "        self.features = features / features.sum(dim=1, keepdim=True)\n",
    "\n",
    "        self.classes = {s: i for i, s in enumerate(set(content[:, -1]))}\n",
    "        self.labels = torch.tensor([self.classes[i] for i in content[:, -1]], dtype=torch.long)\n",
    "\n",
    "        paper_ids = np.array(content[:, 0], dtype=np.int32)\n",
    "        ids_to_idx = {id_: i for i, id_ in enumerate(paper_ids)}\n",
    "\n",
    "        self.adj_mat = torch.eye(len(self.labels), dtype=torch.bool)\n",
    "\n",
    "        if self.include_edges:\n",
    "            for e in citations:\n",
    "                e1, e2 = ids_to_idx[e[0]], ids_to_idx[e[1]]\n",
    "                self.adj_mat[e1][e2] = True\n",
    "                self.adj_mat[e2][e1] = True\n",
    "\n",
    "    def _download(self):\n",
    "        data_dir = Path('cora')\n",
    "        if not data_dir.exists():\n",
    "            data_dir.mkdir(parents=True)\n",
    "\n",
    "        tgz_file = data_dir / 'cora.tgz'\n",
    "        content_file = data_dir / 'cora.content'\n",
    "\n",
    "        if not content_file.exists():\n",
    "            download_file('https://linqs-data.soe.ucsc.edu/public/lbc/cora.tgz', tgz_file)\n",
    "            extract_tar(tgz_file, data_dir)\n",
    "\n",
    "\n",
    "def accuracy(output: torch.Tensor, labels: torch.Tensor):\n",
    "    \"\"\"\n",
    "    A simple function to calculate the accuracy\n",
    "    \"\"\"\n",
    "    return output.argmax(dim=-1).eq(labels).sum().item() / len(labels)\n",
    "\n"
   ]
  },
  {
   "cell_type": "code",
   "execution_count": 17,
   "metadata": {},
   "outputs": [
    {
     "name": "stdout",
     "output_type": "stream",
     "text": [
      "{'Neural_Networks': 0, 'Case_Based': 1, 'Probabilistic_Methods': 2, 'Reinforcement_Learning': 3, 'Rule_Learning': 4, 'Genetic_Algorithms': 5, 'Theory': 6}\n"
     ]
    }
   ],
   "source": [
    "data = CoraDataset(True)\n",
    "print(data.classes)"
   ]
  },
  {
   "cell_type": "code",
   "execution_count": 16,
   "metadata": {},
   "outputs": [
    {
     "name": "stdout",
     "output_type": "stream",
     "text": [
      "torch.Size([2708, 1433])\n",
      "torch.Size([2708])\n",
      "torch.Size([2708, 2708])\n",
      "tensor([0., 0., 0.,  ..., 0., 0., 0.])\n",
      "tensor(6)\n"
     ]
    }
   ],
   "source": [
    "import matplotlib.pyplot as plt\n",
    "import networkx as nx\n",
    "\n",
    "def evaluate_individual(data):\n",
    "    features = data.features\n",
    "    labels = data.labels\n",
    "    edges_adj = data.adj_mat\n",
    "    #print all shapes\n",
    "    print(features.shape)\n",
    "    print(labels.shape)\n",
    "    print(edges_adj.shape)\n",
    "    #edges_adj = edges_adj.unsqueeze(-1)\n",
    "\n",
    "    # Create a graph\n",
    "    G = nx.from_numpy_array(edges_adj.numpy())\n",
    "\n",
    "    # Assign labels and features to nodes\n",
    "    for i, (feat, label) in enumerate(zip(features, labels)):\n",
    "        G.nodes[i]['feature'] = feat\n",
    "        G.nodes[i]['label'] = label\n",
    "\n",
    "    # Draw the graph\n",
    "    # pos = nx.spring_layout(G)\n",
    "    # nx.draw_networkx(G, pos, with_labels=False, node_size=5, node_color=[[.5, .5, .5]])\n",
    "    # node_labels = nx.get_node_attributes(G, 'label')\n",
    "    # nx.draw_networkx_labels(G, pos, labels=node_labels)\n",
    "    # plt.show()\n",
    "\n",
    "    print(features[0])\n",
    "    print(labels[70])\n",
    "  \n",
    "evaluate_individual(data)\n"
   ]
  }
 ],
 "metadata": {
  "kernelspec": {
   "display_name": "envML",
   "language": "python",
   "name": "python3"
  },
  "language_info": {
   "codemirror_mode": {
    "name": "ipython",
    "version": 3
   },
   "file_extension": ".py",
   "mimetype": "text/x-python",
   "name": "python",
   "nbconvert_exporter": "python",
   "pygments_lexer": "ipython3",
   "version": "3.11.5"
  }
 },
 "nbformat": 4,
 "nbformat_minor": 2
}
